{
  "nbformat": 4,
  "nbformat_minor": 0,
  "metadata": {
    "colab": {
      "provenance": [],
      "machine_shape": "hm",
      "authorship_tag": "ABX9TyP1LDdgPGIbAUngVoWtY2sR",
      "include_colab_link": true
    },
    "kernelspec": {
      "name": "python3",
      "display_name": "Python 3"
    },
    "language_info": {
      "name": "python"
    },
    "accelerator": "GPU",
    "gpuClass": "premium"
  },
  "cells": [
    {
      "cell_type": "markdown",
      "metadata": {
        "id": "view-in-github",
        "colab_type": "text"
      },
      "source": [
        "<a href=\"https://colab.research.google.com/github/hsnam95/class2023Spring/blob/main/stablediffision.ipynb\" target=\"_parent\"><img src=\"https://colab.research.google.com/assets/colab-badge.svg\" alt=\"Open In Colab\"/></a>"
      ]
    },
    {
      "cell_type": "markdown",
      "source": [
        "https://huggingface.co/docs/diffusers/main/en/api/pipelines/stable_diffusion_2"
      ],
      "metadata": {
        "id": "olSvFK3rJUnY"
      }
    },
    {
      "cell_type": "code",
      "execution_count": null,
      "metadata": {
        "id": "NqoZD2Tz56z0"
      },
      "outputs": [],
      "source": [
        "# Make sure that hardware accelerator in Runtime type is set to GPU.\n",
        "!pip install diffusers transformers accelerate safetensors\n",
        "import torch"
      ]
    },
    {
      "cell_type": "code",
      "source": [
        "from diffusers import StableDiffusionPipeline, DPMSolverMultistepScheduler\n",
        "model_id = \"stabilityai/stable-diffusion-2-1\"\n",
        "\n",
        "# Use the DPMSolverMultistepScheduler (DPM-Solver++) scheduler here instead\n",
        "pipe = StableDiffusionPipeline.from_pretrained(model_id, torch_dtype=torch.float16)\n",
        "pipe.scheduler = DPMSolverMultistepScheduler.from_config(pipe.scheduler.config)"
      ],
      "metadata": {
        "id": "g6Ztl67lSz-B"
      },
      "execution_count": null,
      "outputs": []
    },
    {
      "cell_type": "code",
      "source": [
        "from diffusers import StableDiffusionPipeline, EulerDiscreteScheduler\n",
        "model_id = \"stabilityai/stable-diffusion-2\"\n",
        "\n",
        "# Use the Euler scheduler here instead\n",
        "scheduler = EulerDiscreteScheduler.from_pretrained(model_id, subfolder=\"scheduler\")\n",
        "pipe = StableDiffusionPipeline.from_pretrained(model_id, scheduler=scheduler, torch_dtype=torch.float16)"
      ],
      "metadata": {
        "id": "IDK8omfqQd-P"
      },
      "execution_count": null,
      "outputs": []
    },
    {
      "cell_type": "code",
      "source": [
        "pipe = pipe.to(\"cuda\")\n",
        "image = pipe(prompt='1900''s Seoul street in a photorealistic fashion, in which traditional houses and street food are found.', negative_prompt='black and white, japanese', guidance_scale=7).images[0]\n",
        "image.save(\"test.png\")"
      ],
      "metadata": {
        "id": "uHQZP1TJMY-r"
      },
      "execution_count": null,
      "outputs": []
    },
    {
      "cell_type": "code",
      "source": [
        "!pip install gradio"
      ],
      "metadata": {
        "id": "T-nE6QybbkMB"
      },
      "execution_count": null,
      "outputs": []
    },
    {
      "cell_type": "code",
      "source": [
        "import gradio as gr"
      ],
      "metadata": {
        "id": "dw3UEiLSbs4J"
      },
      "execution_count": 8,
      "outputs": []
    },
    {
      "cell_type": "code",
      "source": [
        "def SD(text):\n",
        "  image = pipe(prompt=text, negative_prompt='ugly', guidance_scale=7).images[0]\n",
        "  return image"
      ],
      "metadata": {
        "id": "ditsnyhnb4eN"
      },
      "execution_count": null,
      "outputs": []
    },
    {
      "cell_type": "code",
      "source": [
        "iface = gr.Interface(SD, inputs = [\"text\"], outputs = [\"image\"])\n",
        "iface.launch('share=True')"
      ],
      "metadata": {
        "id": "LddpiqdybwX1"
      },
      "execution_count": null,
      "outputs": []
    }
  ]
}