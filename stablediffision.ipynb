{
  "nbformat": 4,
  "nbformat_minor": 0,
  "metadata": {
    "colab": {
      "provenance": [],
      "machine_shape": "hm",
      "authorship_tag": "ABX9TyM7lg/czU7iYtzpANdzV9mQ",
      "include_colab_link": true
    },
    "kernelspec": {
      "name": "python3",
      "display_name": "Python 3"
    },
    "language_info": {
      "name": "python"
    },
    "accelerator": "GPU",
    "gpuClass": "premium"
  },
  "cells": [
    {
      "cell_type": "markdown",
      "metadata": {
        "id": "view-in-github",
        "colab_type": "text"
      },
      "source": [
        "<a href=\"https://colab.research.google.com/github/hsnam95/class2023Spring/blob/main/stablediffision.ipynb\" target=\"_parent\"><img src=\"https://colab.research.google.com/assets/colab-badge.svg\" alt=\"Open In Colab\"/></a>"
      ]
    },
    {
      "cell_type": "markdown",
      "source": [
        "https://huggingface.co/docs/diffusers/main/en/api/pipelines/stable_diffusion_2\n",
        "\n",
        "(prompt: str | List[str] = None, image: FloatTensor | Any = None, mask_image: FloatTensor | Any = None, strength: float = 0.8, num_inference_steps: int | None = 50, guidance_scale: float | None = 7.5, negative_prompt: str | List[str] | None = None, num_images_per_prompt: int | None = 1, add_predicted_noise: bool | None = False, eta: float | None = 0, generator: Generator | List[Generator] | None = None, prompt_embeds: FloatTensor | None = None, negative_prompt_embeds: FloatTensor | None = None, output_type: str | None = \"pil\", return_dict: bool = True, callback: ((int, int, FloatTensor) -> None) | None = None, callback_steps: int = 1) -> (tuple[list[Image] | FloatTensor | Any, Any | None] | StableDiffusionPipelineOutput)"
      ],
      "metadata": {
        "id": "olSvFK3rJUnY"
      }
    },
    {
      "cell_type": "code",
      "execution_count": null,
      "metadata": {
        "id": "NqoZD2Tz56z0"
      },
      "outputs": [],
      "source": [
        "# Make sure that hardware accelerator in Runtime type is set to GPU.\n",
        "!pip install diffusers transformers accelerate safetensors\n",
        "import torch\n",
        "\n",
        "from diffusers import StableDiffusionPipeline, DPMSolverMultistepScheduler\n",
        "model_id = \"stabilityai/stable-diffusion-2-1\"\n",
        "\n",
        "# Use the DPMSolverMultistepScheduler (DPM-Solver++) scheduler here instead\n",
        "pipe = StableDiffusionPipeline.from_pretrained(model_id, torch_dtype=torch.float16)\n",
        "pipe.scheduler = DPMSolverMultistepScheduler.from_config(pipe.scheduler.config)\n",
        "pipe = pipe.to(\"cuda\")"
      ]
    },
    {
      "cell_type": "code",
      "source": [
        "image = pipe(prompt='Ludwig Boltzmann dancing with a mouse robot', negative_prompt='high resolution', guidance_scale=9).images[0]\n",
        "    \n",
        "image.save(\"test.png\")"
      ],
      "metadata": {
        "id": "uHQZP1TJMY-r"
      },
      "execution_count": null,
      "outputs": []
    }
  ]
}