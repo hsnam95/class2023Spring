{
  "nbformat": 4,
  "nbformat_minor": 0,
  "metadata": {
    "colab": {
      "provenance": [],
      "authorship_tag": "ABX9TyO4zVx6QBK5GEAGjZz6Tzcr",
      "include_colab_link": true
    },
    "kernelspec": {
      "name": "python3",
      "display_name": "Python 3"
    },
    "language_info": {
      "name": "python"
    }
  },
  "cells": [
    {
      "cell_type": "markdown",
      "metadata": {
        "id": "view-in-github",
        "colab_type": "text"
      },
      "source": [
        "<a href=\"https://colab.research.google.com/github/hsnam95/class2023Spring/blob/main/gpt_functions.ipynb\" target=\"_parent\"><img src=\"https://colab.research.google.com/assets/colab-badge.svg\" alt=\"Open In Colab\"/></a>"
      ]
    },
    {
      "cell_type": "code",
      "execution_count": 1,
      "metadata": {
        "colab": {
          "base_uri": "https://localhost:8080/"
        },
        "id": "o1Ax0Fr5Gr30",
        "outputId": "3ee6e59b-cb8e-4e63-fc18-cb2e82596fe3"
      },
      "outputs": [
        {
          "output_type": "stream",
          "name": "stdout",
          "text": [
            "Collecting openai\n",
            "  Downloading openai-0.27.8-py3-none-any.whl (73 kB)\n",
            "\u001b[?25l     \u001b[90m━━━━━━━━━━━━━━━━━━━━━━━━━━━━━━━━━━━━━━━━\u001b[0m \u001b[32m0.0/73.6 kB\u001b[0m \u001b[31m?\u001b[0m eta \u001b[36m-:--:--\u001b[0m\r\u001b[2K     \u001b[90m━━━━━━━━━━━━━━━━━━━━━━━━━━━━━━━━━━━━━━━━\u001b[0m \u001b[32m73.6/73.6 kB\u001b[0m \u001b[31m3.2 MB/s\u001b[0m eta \u001b[36m0:00:00\u001b[0m\n",
            "\u001b[?25hRequirement already satisfied: requests>=2.20 in /usr/local/lib/python3.10/dist-packages (from openai) (2.27.1)\n",
            "Requirement already satisfied: tqdm in /usr/local/lib/python3.10/dist-packages (from openai) (4.65.0)\n",
            "Requirement already satisfied: aiohttp in /usr/local/lib/python3.10/dist-packages (from openai) (3.8.4)\n",
            "Requirement already satisfied: urllib3<1.27,>=1.21.1 in /usr/local/lib/python3.10/dist-packages (from requests>=2.20->openai) (1.26.16)\n",
            "Requirement already satisfied: certifi>=2017.4.17 in /usr/local/lib/python3.10/dist-packages (from requests>=2.20->openai) (2023.5.7)\n",
            "Requirement already satisfied: charset-normalizer~=2.0.0 in /usr/local/lib/python3.10/dist-packages (from requests>=2.20->openai) (2.0.12)\n",
            "Requirement already satisfied: idna<4,>=2.5 in /usr/local/lib/python3.10/dist-packages (from requests>=2.20->openai) (3.4)\n",
            "Requirement already satisfied: attrs>=17.3.0 in /usr/local/lib/python3.10/dist-packages (from aiohttp->openai) (23.1.0)\n",
            "Requirement already satisfied: multidict<7.0,>=4.5 in /usr/local/lib/python3.10/dist-packages (from aiohttp->openai) (6.0.4)\n",
            "Requirement already satisfied: async-timeout<5.0,>=4.0.0a3 in /usr/local/lib/python3.10/dist-packages (from aiohttp->openai) (4.0.2)\n",
            "Requirement already satisfied: yarl<2.0,>=1.0 in /usr/local/lib/python3.10/dist-packages (from aiohttp->openai) (1.9.2)\n",
            "Requirement already satisfied: frozenlist>=1.1.1 in /usr/local/lib/python3.10/dist-packages (from aiohttp->openai) (1.3.3)\n",
            "Requirement already satisfied: aiosignal>=1.1.2 in /usr/local/lib/python3.10/dist-packages (from aiohttp->openai) (1.3.1)\n",
            "Installing collected packages: openai\n",
            "Successfully installed openai-0.27.8\n"
          ]
        }
      ],
      "source": [
        "!pip install openai\n",
        "import openai\n",
        "import json\n",
        "openai.api_key = 'openai key here'"
      ]
    },
    {
      "cell_type": "code",
      "source": [
        "# Example dummy function hard coded to return the same weather\n",
        "# In production, this could be your backend API or an external API\n",
        "def get_order(item, size, number, option):\n",
        "    order_info = {\n",
        "        \"item\": item,\n",
        "        \"size\": size,\n",
        "        \"number\": number,\n",
        "        \"option\": option\n",
        "    }\n",
        "    return json.dumps(order_info)"
      ],
      "metadata": {
        "id": "Tbp303NUGtgP"
      },
      "execution_count": 3,
      "outputs": []
    },
    {
      "cell_type": "code",
      "source": [
        "# Step 1: send the conversation and available functions to GPT\n",
        "message = \"I'd like to order two large size iced americao\"\n",
        "messages = [{\"role\": \"user\", \"content\": message}]\n",
        "functions = [\n",
        "    {\n",
        "        \"name\": \"get_order\",\n",
        "        \"description\": \"Get the order info in a given conversation\",\n",
        "        \"parameters\": {\n",
        "            \"type\": \"object\",\n",
        "            \"properties\": {\n",
        "                \"item\": {\"type\": \"string\", \"description\": \"the drink type, e.g. iced latte\"},\n",
        "                \"size\": {\"type\": \"string\", \"description\": \"the drink size, e.g. large\"},\n",
        "                \"number\": {\"type\": \"string\", \"description\": \"the number of orders, e.g. two\"},\n",
        "                \"option\": {\"type\": \"string\", \"description\": \"the drink option, e.g. whipped cream\"},\n",
        "            },\n",
        "            \"required\": [\"item\"],\n",
        "        },\n",
        "    }\n",
        "]\n",
        "response = openai.ChatCompletion.create(\n",
        "    model=\"gpt-3.5-turbo-0613\",\n",
        "    messages=messages,\n",
        "    functions=functions,\n",
        "    function_call=\"auto\",  # auto is default, but we'll be explicit\n",
        ")\n",
        "response\n",
        "response_message = response[\"choices\"][0][\"message\"]"
      ],
      "metadata": {
        "id": "XHoe5gUOGwvC"
      },
      "execution_count": 20,
      "outputs": []
    },
    {
      "cell_type": "code",
      "source": [
        "response_message"
      ],
      "metadata": {
        "colab": {
          "base_uri": "https://localhost:8080/"
        },
        "id": "YBJmXQozvRtH",
        "outputId": "0d7f987a-8aad-442a-e0f2-a1a7d586018b"
      },
      "execution_count": 21,
      "outputs": [
        {
          "output_type": "execute_result",
          "data": {
            "text/plain": [
              "<OpenAIObject at 0x7fd9979b89a0> JSON: {\n",
              "  \"role\": \"assistant\",\n",
              "  \"content\": null,\n",
              "  \"function_call\": {\n",
              "    \"name\": \"get_order\",\n",
              "    \"arguments\": \"{\\n  \\\"item\\\": \\\"iced americano\\\",\\n  \\\"size\\\": \\\"large\\\",\\n  \\\"number\\\": \\\"two\\\"\\n}\"\n",
              "  }\n",
              "}"
            ]
          },
          "metadata": {},
          "execution_count": 21
        }
      ]
    },
    {
      "cell_type": "code",
      "source": [
        "# Step 2: check if GPT wanted to call a function\n",
        "if response_message.get(\"function_call\"):\n",
        "    # Step 3: call the function\n",
        "    # Note: the JSON response may not always be valid; be sure to handle errors\n",
        "    available_functions = {\n",
        "        \"get_order\": get_order,\n",
        "    }  # only one function in this example, but you can have multiple\n",
        "    function_name = response_message[\"function_call\"][\"name\"]\n",
        "    fuction_to_call = available_functions[function_name]\n",
        "    function_args = json.loads(response_message[\"function_call\"][\"arguments\"])\n",
        "    function_response = fuction_to_call(\n",
        "        item=function_args.get(\"item\"),\n",
        "        size=function_args.get(\"size\"),\n",
        "        number=function_args.get(\"number\"),\n",
        "        option=function_args.get(\"option\"),\n",
        "    )\n",
        "\n",
        "    # Step 4: send the info on the function call and function response to GPT\n",
        "    messages.append(response_message)  # extend conversation with assistant's reply\n",
        "    messages.append(\n",
        "        {\n",
        "            \"role\": \"function\",\n",
        "            \"name\": function_name,\n",
        "            \"content\": function_response,\n",
        "        }\n",
        "    )  # extend conversation with function response\n",
        "    second_response = openai.ChatCompletion.create(\n",
        "        model=\"gpt-3.5-turbo-0613\",\n",
        "        messages=messages,\n",
        "    )  # get a new response from GPT where it can see the function response\n",
        "second_response"
      ],
      "metadata": {
        "id": "lwyrcoFNuVfF"
      },
      "execution_count": null,
      "outputs": []
    },
    {
      "cell_type": "code",
      "source": [
        "response_message.get(\"function_call\")"
      ],
      "metadata": {
        "colab": {
          "base_uri": "https://localhost:8080/"
        },
        "id": "ToeFHk5FuLB5",
        "outputId": "b49242a5-0219-4e65-d168-70d0dc3dc17e"
      },
      "execution_count": 23,
      "outputs": [
        {
          "output_type": "execute_result",
          "data": {
            "text/plain": [
              "<OpenAIObject at 0x7fd99788e6b0> JSON: {\n",
              "  \"name\": \"get_order\",\n",
              "  \"arguments\": \"{\\n  \\\"item\\\": \\\"iced americano\\\",\\n  \\\"size\\\": \\\"large\\\",\\n  \\\"number\\\": \\\"two\\\"\\n}\"\n",
              "}"
            ]
          },
          "metadata": {},
          "execution_count": 23
        }
      ]
    }
  ]
}