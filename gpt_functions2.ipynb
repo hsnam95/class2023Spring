{
  "nbformat": 4,
  "nbformat_minor": 0,
  "metadata": {
    "colab": {
      "provenance": [],
      "authorship_tag": "ABX9TyPcCd0I+sOmfopbj2kmRlWA",
      "include_colab_link": true
    },
    "kernelspec": {
      "name": "python3",
      "display_name": "Python 3"
    },
    "language_info": {
      "name": "python"
    }
  },
  "cells": [
    {
      "cell_type": "markdown",
      "metadata": {
        "id": "view-in-github",
        "colab_type": "text"
      },
      "source": [
        "<a href=\"https://colab.research.google.com/github/hsnam95/class2023Spring/blob/main/gpt_functions2.ipynb\" target=\"_parent\"><img src=\"https://colab.research.google.com/assets/colab-badge.svg\" alt=\"Open In Colab\"/></a>"
      ]
    },
    {
      "cell_type": "code",
      "execution_count": null,
      "metadata": {
        "id": "o1Ax0Fr5Gr30"
      },
      "outputs": [],
      "source": [
        "!pip install openai\n",
        "import openai\n",
        "import json\n",
        "openai.api_key = ''"
      ]
    },
    {
      "cell_type": "code",
      "source": [
        "# Example dummy function hard coded to return the same weather\n",
        "# In production, this could be your backend API or an external API\n",
        "def get_code(locatadd):\n",
        "  import requests\n",
        "  ServiceKey = 'miH%2BZXg85lQy4%2FkmhffvygXDIFiTwisriSLxtyECSzw6hxTVK7yI8QKIOc7mP7LEqCnhBGuj6iW1gZW65dum7A%3D%3D'\n",
        "  URL = ('https://apis.data.go.kr/1741000/StanReginCd/getStanReginCdList?serviceKey=miH%2BZXg85lQy4%2FkmhffvygXDIFiTwisriSLxtyECSzw6hxTVK7yI8QKIOc7mP7LEqCnhBGuj6iW1gZW65dum7A%3D%3D&pageNo=1&numOfRows=3&type=xml&locatadd_nm='+locatadd)\n",
        "  response = requests.get(URL)\n",
        "  return response"
      ],
      "metadata": {
        "id": "Tbp303NUGtgP"
      },
      "execution_count": 2,
      "outputs": []
    },
    {
      "cell_type": "code",
      "source": [
        "# Step 1: send the conversation and available functions to GPT\n",
        "message = \"부산광역시 부산진구 법정동코드 말해줘\"\n",
        "messages = [{\"role\": \"user\", \"content\": message}]\n",
        "functions = [\n",
        "    {\n",
        "        \"name\": \"get_code\",\n",
        "        \"description\": \"행정구역에 대한 법정동코드를 받아옴\",\n",
        "        \"parameters\": {\n",
        "            \"type\": \"object\",\n",
        "            \"properties\": {\n",
        "                \"locatadd\": {\"type\": \"string\", \"description\": \"행정구역, e.g. 부산광역시 부산진구\"},\n",
        "            },\n",
        "            \"required\": [\"locatadd\"],\n",
        "        },\n",
        "    }\n",
        "]\n",
        "response = openai.ChatCompletion.create(\n",
        "    model=\"gpt-3.5-turbo-0613\",\n",
        "    messages=messages,\n",
        "    functions=functions,\n",
        "    function_call=\"auto\",  # auto is default, but we'll be explicit\n",
        ")\n",
        "response_message = response[\"choices\"][0][\"message\"]"
      ],
      "metadata": {
        "id": "XHoe5gUOGwvC"
      },
      "execution_count": 7,
      "outputs": []
    },
    {
      "cell_type": "code",
      "source": [
        "if response_message.get(\"function_call\"):\n",
        "    # Step 3: call the function\n",
        "    # Note: the JSON response may not always be valid; be sure to handle errors\n",
        "    available_functions = {\n",
        "        \"get_code\": get_code,\n",
        "    }  # only one function in this example, but you can have multiple\n",
        "    function_name = response_message[\"function_call\"][\"name\"]\n",
        "    fuction_to_call = available_functions[function_name]\n",
        "    function_args = json.loads(response_message[\"function_call\"][\"arguments\"])\n",
        "    function_response = fuction_to_call(\n",
        "        locatadd=function_args.get(\"locatadd\"),\n",
        "    )\n",
        "    function_response.text"
      ],
      "metadata": {
        "id": "t2-ZE9WS0YHh"
      },
      "execution_count": null,
      "outputs": []
    },
    {
      "cell_type": "code",
      "source": [
        "\n"
      ],
      "metadata": {
        "id": "_poDNreHsCb3"
      },
      "execution_count": null,
      "outputs": []
    },
    {
      "cell_type": "code",
      "source": [
        "# Step 2: check if GPT wanted to call a function\n",
        "if response_message.get(\"function_call\"):\n",
        "    # Step 3: call the function\n",
        "    # Note: the JSON response may not always be valid; be sure to handle errors\n",
        "    available_functions = {\n",
        "        \"get_order\": get_order,\n",
        "    }  # only one function in this example, but you can have multiple\n",
        "    function_name = response_message[\"function_call\"][\"name\"]\n",
        "    fuction_to_call = available_functions[function_name]\n",
        "    function_args = json.loads(response_message[\"function_call\"][\"arguments\"])\n",
        "    function_response = fuction_to_call(\n",
        "        item=function_args.get(\"item\"),\n",
        "        size=function_args.get(\"size\"),\n",
        "        number=function_args.get(\"number\"),\n",
        "        option=function_args.get(\"option\"),\n",
        "    )\n",
        "\n",
        "    # Step 4: send the info on the function call and function response to GPT\n",
        "    messages.append(response_message)  # extend conversation with assistant's reply\n",
        "    messages.append(\n",
        "        {\n",
        "            \"role\": \"function\",\n",
        "            \"name\": function_name,\n",
        "            \"content\": function_response,\n",
        "        }\n",
        "    )  # extend conversation with function response\n",
        "    second_response = openai.ChatCompletion.create(\n",
        "        model=\"gpt-3.5-turbo-0613\",\n",
        "        messages=messages,\n",
        "    )  # get a new response from GPT where it can see the function response\n",
        "second_response"
      ],
      "metadata": {
        "id": "lwyrcoFNuVfF"
      },
      "execution_count": null,
      "outputs": []
    }
  ]
}