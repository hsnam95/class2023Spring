{
  "nbformat": 4,
  "nbformat_minor": 0,
  "metadata": {
    "colab": {
      "provenance": [],
      "machine_shape": "hm",
      "gpuType": "A100",
      "include_colab_link": true
    },
    "kernelspec": {
      "name": "python3",
      "display_name": "Python 3"
    },
    "language_info": {
      "name": "python"
    },
    "gpuClass": "standard",
    "accelerator": "GPU"
  },
  "cells": [
    {
      "cell_type": "markdown",
      "metadata": {
        "id": "view-in-github",
        "colab_type": "text"
      },
      "source": [
        "<a href=\"https://colab.research.google.com/github/hsnam95/class2023Spring/blob/main/whisper_gradio.ipynb\" target=\"_parent\"><img src=\"https://colab.research.google.com/assets/colab-badge.svg\" alt=\"Open In Colab\"/></a>"
      ]
    },
    {
      "cell_type": "markdown",
      "source": [
        "https://huggingface.co/docs/transformers/model_doc/whisper\n",
        "https://github.com/openai/whisper"
      ],
      "metadata": {
        "id": "oBB6SkL2REFn"
      }
    },
    {
      "cell_type": "markdown",
      "source": [
        "### 1. Install dependencies import libraries"
      ],
      "metadata": {
        "id": "2o-2jPqITvtD"
      }
    },
    {
      "cell_type": "code",
      "execution_count": null,
      "metadata": {
        "id": "8WYSV-73rslm"
      },
      "outputs": [],
      "source": [
        "!git clone https://huggingface.co/spaces/openai/whisper\n",
        "%cd whisper\n",
        "!pip install -r requirements.txt\n",
        "!pip install gradio\n",
        "!pip install transformers\n",
        "\n",
        "import gradio as gr\n",
        "import torch\n",
        "from transformers import pipeline"
      ]
    },
    {
      "cell_type": "markdown",
      "source": [
        "### 2. define a pipeline for speech recognition task"
      ],
      "metadata": {
        "id": "g51-cBLlTsO4"
      }
    },
    {
      "cell_type": "code",
      "source": [
        "# TPU로 설정하면 comment out the below\n",
        "device = \"cuda:0\" if torch.cuda.is_available() else \"cpu\" \n",
        "pipe = pipeline(\n",
        "  \"automatic-speech-recognition\",\n",
        "  model=\"openai/whisper-large-v2\",\n",
        "  chunk_length_s=30,\n",
        "  device=device,\n",
        ")"
      ],
      "metadata": {
        "id": "XoGXyz3K-dtP"
      },
      "execution_count": null,
      "outputs": []
    },
    {
      "cell_type": "markdown",
      "source": [
        "### 3. define a function for gradio"
      ],
      "metadata": {
        "id": "ggn4DQdIH8vF"
      }
    },
    {
      "cell_type": "code",
      "source": [
        "def inference(audio):\n",
        "  # stride_length_s=[6,0], as input below\n",
        "  # generate_kwargs = {\"language\":\"<|vi|>\",\"task\":\"transcribe\"}\n",
        "  prediction = pipe(audio, batch_size=5, return_timestamps=True, generate_kwargs = {\"language\":\"<|vi|>\",\"task\":\"transcribe\"})[\"chunks\"]\n",
        "\n",
        "  return prediction"
      ],
      "metadata": {
        "id": "03WIK3yP8q2a"
      },
      "execution_count": null,
      "outputs": []
    },
    {
      "cell_type": "markdown",
      "source": [
        "### 4. Run gradio demo"
      ],
      "metadata": {
        "id": "Gu0rTiWkIWHX"
      }
    },
    {
      "cell_type": "code",
      "source": [
        "gr.Interface(\n",
        "    fn=inference, \n",
        "    inputs=gr.Audio(source=\"microphone\", type=\"filepath\"), \n",
        "    outputs=\"text\").launch()"
      ],
      "metadata": {
        "colab": {
          "base_uri": "https://localhost:8080/",
          "height": 616
        },
        "id": "82CUmzwGIUZi",
        "outputId": "30e83428-4fc9-4102-d28b-9142e6180965"
      },
      "execution_count": 51,
      "outputs": [
        {
          "output_type": "stream",
          "name": "stdout",
          "text": [
            "Colab notebook detected. To show errors in colab notebook, set debug=True in launch()\n",
            "Note: opening Chrome Inspector may crash demo inside Colab notebooks.\n",
            "\n",
            "To create a public link, set `share=True` in `launch()`.\n"
          ]
        },
        {
          "output_type": "display_data",
          "data": {
            "text/plain": [
              "<IPython.core.display.Javascript object>"
            ],
            "application/javascript": [
              "(async (port, path, width, height, cache, element) => {\n",
              "                        if (!google.colab.kernel.accessAllowed && !cache) {\n",
              "                            return;\n",
              "                        }\n",
              "                        element.appendChild(document.createTextNode(''));\n",
              "                        const url = await google.colab.kernel.proxyPort(port, {cache});\n",
              "\n",
              "                        const external_link = document.createElement('div');\n",
              "                        external_link.innerHTML = `\n",
              "                            <div style=\"font-family: monospace; margin-bottom: 0.5rem\">\n",
              "                                Running on <a href=${new URL(path, url).toString()} target=\"_blank\">\n",
              "                                    https://localhost:${port}${path}\n",
              "                                </a>\n",
              "                            </div>\n",
              "                        `;\n",
              "                        element.appendChild(external_link);\n",
              "\n",
              "                        const iframe = document.createElement('iframe');\n",
              "                        iframe.src = new URL(path, url).toString();\n",
              "                        iframe.height = height;\n",
              "                        iframe.allow = \"autoplay; camera; microphone; clipboard-read; clipboard-write;\"\n",
              "                        iframe.width = width;\n",
              "                        iframe.style.border = 0;\n",
              "                        element.appendChild(iframe);\n",
              "                    })(7885, \"/\", \"100%\", 500, false, window.element)"
            ]
          },
          "metadata": {}
        },
        {
          "output_type": "execute_result",
          "data": {
            "text/plain": []
          },
          "metadata": {},
          "execution_count": 51
        }
      ]
    }
  ]
}