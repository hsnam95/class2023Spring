{
  "nbformat": 4,
  "nbformat_minor": 0,
  "metadata": {
    "colab": {
      "provenance": [],
      "authorship_tag": "ABX9TyN/vmx8Gsz0SAmXoPxBtegR",
      "include_colab_link": true
    },
    "kernelspec": {
      "name": "python3",
      "display_name": "Python 3"
    },
    "language_info": {
      "name": "python"
    }
  },
  "cells": [
    {
      "cell_type": "markdown",
      "metadata": {
        "id": "view-in-github",
        "colab_type": "text"
      },
      "source": [
        "<a href=\"https://colab.research.google.com/github/hsnam95/class2023Spring/blob/main/whisper_api_time.ipynb\" target=\"_parent\"><img src=\"https://colab.research.google.com/assets/colab-badge.svg\" alt=\"Open In Colab\"/></a>"
      ]
    },
    {
      "cell_type": "code",
      "execution_count": null,
      "metadata": {
        "id": "Pz1UqGEV9h1O"
      },
      "outputs": [],
      "source": [
        "!pip install openai"
      ]
    },
    {
      "cell_type": "code",
      "source": [
        "import openai\n",
        "openai.api_key = ''"
      ],
      "metadata": {
        "id": "YoA224XW91uC"
      },
      "execution_count": 2,
      "outputs": []
    },
    {
      "cell_type": "markdown",
      "source": [
        "## Whisper"
      ],
      "metadata": {
        "id": "2H7rlCNEOaWR"
      }
    },
    {
      "cell_type": "code",
      "source": [
        "import os\n",
        "url = \"https://raw.githubusercontent.com/hsnam95/class2023Spring/main/test.wav\"\n",
        "os.system(\"curl \" + url + \" > test.wav\")"
      ],
      "metadata": {
        "id": "2q-Wsv31M8ot"
      },
      "execution_count": null,
      "outputs": []
    },
    {
      "cell_type": "markdown",
      "source": [
        "### Create Transcript"
      ],
      "metadata": {
        "id": "XI2k0kwcWEII"
      }
    },
    {
      "cell_type": "code",
      "source": [
        "import timeit"
      ],
      "metadata": {
        "id": "j0Ouwkl-m8kH"
      },
      "execution_count": 19,
      "outputs": []
    },
    {
      "cell_type": "code",
      "source": [
        "audio_file = open(\"test.wav\", \"rb\")\n",
        "start = timeit.timeit()\n",
        "transcript = openai.Audio.transcribe(\"whisper-1\", audio_file)\n",
        "end = timeit.timeit()\n",
        "print(end - start)\n",
        "print(transcript['text'])"
      ],
      "metadata": {
        "id": "K-nkFpHl91il"
      },
      "execution_count": null,
      "outputs": []
    }
  ]
}