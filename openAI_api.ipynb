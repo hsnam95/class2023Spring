{
  "nbformat": 4,
  "nbformat_minor": 0,
  "metadata": {
    "colab": {
      "provenance": [],
      "authorship_tag": "ABX9TyMsgU4erheMLl+RXicUnVu0",
      "include_colab_link": true
    },
    "kernelspec": {
      "name": "python3",
      "display_name": "Python 3"
    },
    "language_info": {
      "name": "python"
    }
  },
  "cells": [
    {
      "cell_type": "markdown",
      "metadata": {
        "id": "view-in-github",
        "colab_type": "text"
      },
      "source": [
        "<a href=\"https://colab.research.google.com/github/hsnam95/class2023Spring/blob/main/openAI_api.ipynb\" target=\"_parent\"><img src=\"https://colab.research.google.com/assets/colab-badge.svg\" alt=\"Open In Colab\"/></a>"
      ]
    },
    {
      "cell_type": "code",
      "execution_count": null,
      "metadata": {
        "id": "Pz1UqGEV9h1O"
      },
      "outputs": [],
      "source": [
        "!pip install openai"
      ]
    },
    {
      "cell_type": "code",
      "source": [
        "import openai\n",
        "openai.api_key = 'openai API key here'"
      ],
      "metadata": {
        "id": "YoA224XW91uC"
      },
      "execution_count": null,
      "outputs": []
    },
    {
      "cell_type": "markdown",
      "source": [
        "## GPT"
      ],
      "metadata": {
        "id": "HRiUOwlAOeYi"
      }
    },
    {
      "cell_type": "markdown",
      "source": [
        "### Create Chat Completion"
      ],
      "metadata": {
        "id": "zyKMw_WfMsgH"
      }
    },
    {
      "cell_type": "code",
      "source": [
        "chat = openai.ChatCompletion.create(\n",
        "  model = \"gpt-3.5-turbo\",                             # 모델명 (필수)\n",
        "  messages = [{\"role\": \"user\", \"content\": \"난 뭘 하고 살면 좋을까?\"}],  \n",
        "                                                       # 메세지 리스트 (필수 but \"name\") {\"role\": system/user/assistant, \"content\": 메시지 내용, \"name\": 이름}\n",
        "  temperature = 1,                                     # output randomness [0~2] 0.2 small 0.8 big (either this or top_n, not both)\n",
        "  # top_p = 1,                                         # probability considered [0~1]\n",
        "  n = 1,                                               # N of chat completion choices\n",
        "  stream = False,                                      # streaming\n",
        "  # stop = ['.'],                                      # token 생성을 멈추게 하는 조건 sequences(4개까지)\n",
        "  max_tokens = 200,                                    # 최대 token 수\n",
        "  presence_penalty = 0,                                # 새로운 토픽을 말할 확률을 높여주는 [-2~2]\n",
        "  frequency_penalty = 0,                               # 똑같은 문장을 말할 확률을 낮춰주는 [-2~2]\n",
        "  logit_bias = {},                                     # 특정 토큰들의 출현 확률을 수정\n",
        "  user = '',                                           # openAI 모니터용 ID\n",
        ")\n",
        "print(chat)"
      ],
      "metadata": {
        "id": "vtkhh_sk7nYD"
      },
      "execution_count": null,
      "outputs": []
    },
    {
      "cell_type": "code",
      "source": [
        "print(chat[\"choices\"][1][\"message\"][\"content\"])"
      ],
      "metadata": {
        "id": "sE3gzj327qHt"
      },
      "execution_count": null,
      "outputs": []
    },
    {
      "cell_type": "markdown",
      "source": [
        "## Whisper"
      ],
      "metadata": {
        "id": "2H7rlCNEOaWR"
      }
    },
    {
      "cell_type": "code",
      "source": [
        "import os\n",
        "url = \"https://raw.githubusercontent.com/hsnam95/class2023Spring/main/test.wav\"\n",
        "os.system(\"curl \" + url + \" > test.wav\")"
      ],
      "metadata": {
        "id": "2q-Wsv31M8ot"
      },
      "execution_count": null,
      "outputs": []
    },
    {
      "cell_type": "markdown",
      "source": [
        "### Create Transcript"
      ],
      "metadata": {
        "id": "XI2k0kwcWEII"
      }
    },
    {
      "cell_type": "code",
      "source": [
        "audio_file = open(\"test.wav\", \"rb\")\n",
        "transcript = openai.Audio.transcribe(\"whisper-1\", audio_file)\n",
        "print(transcript)"
      ],
      "metadata": {
        "id": "K-nkFpHl91il"
      },
      "execution_count": null,
      "outputs": []
    },
    {
      "cell_type": "code",
      "source": [
        "print(transcript['text'])"
      ],
      "metadata": {
        "id": "89zz8dCIUUH_"
      },
      "execution_count": null,
      "outputs": []
    },
    {
      "cell_type": "markdown",
      "source": [
        "### Create Translation"
      ],
      "metadata": {
        "id": "lSSHteUkPxPZ"
      }
    },
    {
      "cell_type": "code",
      "source": [
        "audio_file = open(\"test.wav\", \"rb\")\n",
        "translation = openai.Audio.translate(\"whisper-1\", audio_file)\n",
        "print(translation)"
      ],
      "metadata": {
        "id": "AjoroAZULJX7"
      },
      "execution_count": null,
      "outputs": []
    },
    {
      "cell_type": "code",
      "source": [
        "print(translation['text'])"
      ],
      "metadata": {
        "id": "Po9AaqcIUWYh"
      },
      "execution_count": null,
      "outputs": []
    },
    {
      "cell_type": "markdown",
      "source": [
        "## DALL·E 2"
      ],
      "metadata": {
        "id": "9ZMGGpkqSNin"
      }
    },
    {
      "cell_type": "markdown",
      "source": [
        "### Create Image"
      ],
      "metadata": {
        "id": "bPrq_BmySoLZ"
      }
    },
    {
      "cell_type": "code",
      "source": [
        "image = openai.Image.create(\n",
        "  prompt=\"cat and dog\",\n",
        "  n=1,\n",
        "  size=\"512x512\"\n",
        ")\n",
        "print(image)"
      ],
      "metadata": {
        "id": "2Ge80K2kTPrw"
      },
      "execution_count": null,
      "outputs": []
    },
    {
      "cell_type": "markdown",
      "source": [
        "### Create Image Edit"
      ],
      "metadata": {
        "id": "fKjInh6TTVos"
      }
    },
    {
      "cell_type": "code",
      "source": [
        "import os\n",
        "url = \"https://raw.githubusercontent.com/hsnam95/class2023Spring/main/original.png\"\n",
        "os.system(\"curl \" + url + \" > original.png\")\n",
        "url = \"https://raw.githubusercontent.com/hsnam95/class2023Spring/main/mask.png\"\n",
        "os.system(\"curl \" + url + \" > mask.png\")"
      ],
      "metadata": {
        "id": "Rp3XLSJkd-qL"
      },
      "execution_count": null,
      "outputs": []
    },
    {
      "cell_type": "code",
      "source": [
        "image = openai.Image.create_edit(\n",
        "  image=open(\"original.png\", \"rb\"),\n",
        "  mask=open(\"mask.png\", \"rb\"),\n",
        "  prompt=\"a greedy pig whose tongue is snake-like without the masked area\",\n",
        "  n=1,\n",
        "  size=\"512x512\"\n",
        ")\n",
        "print(image)"
      ],
      "metadata": {
        "id": "yO9_qWQ3S1Oo"
      },
      "execution_count": null,
      "outputs": []
    },
    {
      "cell_type": "markdown",
      "source": [
        "### Create Image Variation"
      ],
      "metadata": {
        "id": "OwHmP2zEegbG"
      }
    },
    {
      "cell_type": "code",
      "source": [
        "import os\n",
        "url = \"https://raw.githubusercontent.com/hsnam95/class2023Spring/main/cat_dot.png\"\n",
        "os.system(\"curl \" + url + \" > cat_dot.png\")"
      ],
      "metadata": {
        "id": "xsCTgu4YemM4"
      },
      "execution_count": null,
      "outputs": []
    },
    {
      "cell_type": "code",
      "source": [
        "image = openai.Image.create_variation(\n",
        "  image=open(\"cat_dot.png\", \"rb\"),\n",
        "  n=1,\n",
        "  size=\"512x512\"\n",
        ")\n",
        "print(image)"
      ],
      "metadata": {
        "id": "DY4cafkUfIzf"
      },
      "execution_count": null,
      "outputs": []
    }
  ]
}