{
  "nbformat": 4,
  "nbformat_minor": 0,
  "metadata": {
    "colab": {
      "name": "tts_gradio.ipynb",
      "provenance": [],
      "authorship_tag": "ABX9TyOMNfkeKEDZVL7uOCE7cmVz",
      "include_colab_link": true
    },
    "kernelspec": {
      "name": "python3",
      "display_name": "Python 3"
    },
    "language_info": {
      "name": "python"
    }
  },
  "cells": [
    {
      "cell_type": "markdown",
      "metadata": {
        "id": "view-in-github",
        "colab_type": "text"
      },
      "source": [
        "<a href=\"https://colab.research.google.com/github/hsnam95/class2022Spring/blob/main/tts_gradio.ipynb\" target=\"_parent\"><img src=\"https://colab.research.google.com/assets/colab-badge.svg\" alt=\"Open In Colab\"/></a>"
      ]
    },
    {
      "cell_type": "code",
      "execution_count": 8,
      "metadata": {
        "id": "pll7e2x_rAvH"
      },
      "outputs": [],
      "source": [
        "!pip install gradio\n",
        "!pip install git+https://github.com/pytorch/fairseq.git\n",
        "!pip install g2p_en\n",
        "!pip install huggingface_hub"
      ]
    },
    {
      "cell_type": "code",
      "source": [
        "import gradio as gr\n",
        "from fairseq.checkpoint_utils import load_model_ensemble_and_task_from_hf_hub\n",
        "from fairseq.models.text_to_speech.hub_interface import TTSHubInterface\n",
        "import IPython.display as ipd"
      ],
      "metadata": {
        "id": "emZ-Inaf4MlF"
      },
      "execution_count": null,
      "outputs": []
    },
    {
      "cell_type": "code",
      "source": [
        "text = 'how are you?'\n",
        "models, cfg, task = load_model_ensemble_and_task_from_hf_hub(\n",
        "    \"facebook/fastspeech2-en-ljspeech\",\n",
        "    arg_overrides={\"vocoder\": \"hifigan\", \"fp16\": False}\n",
        "    )\n",
        "TTSHubInterface.update_cfg_with_data_cfg(cfg, task.data_cfg)\n",
        "generator = task.build_generator(models, cfg)\n",
        "\n",
        "sample = TTSHubInterface.get_model_input(task, text)\n",
        "wav, rate = TTSHubInterface.get_prediction(task, model, generator, sample)\n",
        "\n",
        "ipd.Audio(wav, rate=rate)"
      ],
      "metadata": {
        "id": "uue4QVVuuYgl"
      },
      "execution_count": null,
      "outputs": []
    },
    {
      "cell_type": "code",
      "source": [
        "def tts(text):\n",
        "  models, cfg, task = load_model_ensemble_and_task_from_hf_hub(\n",
        "      \"facebook/fastspeech2-en-ljspeech\",\n",
        "      arg_overrides={\"vocoder\": \"hifigan\", \"fp16\": False}\n",
        "      )\n",
        "  model = models[0]\n",
        "  TTSHubInterface.update_cfg_with_data_cfg(cfg, task.data_cfg)\n",
        "  generator = task.build_generator(models, cfg)\n",
        "\n",
        "  sample = TTSHubInterface.get_model_input(task, text)\n",
        "  wav, rate = TTSHubInterface.get_prediction(task, model, generator, sample)\n",
        "  import numpy as np\n",
        "  wav = np.array(wav)\n",
        "  return rate, wav"
      ],
      "metadata": {
        "id": "VC_l2NeerUWv"
      },
      "execution_count": 13,
      "outputs": []
    },
    {
      "cell_type": "code",
      "source": [
        "iface = gr.Interface(tts, inputs = [\"text\"], outputs = [\"audio\"])\n",
        "iface.launch(debug=True)"
      ],
      "metadata": {
        "id": "qju6jorvrR-E"
      },
      "execution_count": null,
      "outputs": []
    }
  ]
}